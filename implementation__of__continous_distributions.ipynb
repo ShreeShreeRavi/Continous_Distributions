{
  "nbformat": 4,
  "nbformat_minor": 0,
  "metadata": {
    "colab": {
      "provenance": [],
      "gpuType": "T4"
    },
    "kernelspec": {
      "name": "python3",
      "display_name": "Python 3"
    },
    "language_info": {
      "name": "python"
    },
    "accelerator": "GPU"
  },
  "cells": [
    {
      "cell_type": "markdown",
      "source": [
        "\n",
        "1. Poisson Distribution:\n",
        "The probability mass function (PMF) of the Poisson distribution is given by the formula:\n",
        "\n",
        "PMF(X; λ) = (e^(-λ) * λ^X) / X!\n",
        "\n",
        "\n",
        "2. Gaussian (Normal) Distribution:\n",
        "The probability density function (PDF) of the Gaussian distribution is given by the formula:\n",
        "\n",
        "PDF(X; μ, σ) = (1 / (σ * √(2π))) * e^(-0.5 * ((X - μ) / σ)^2)\n",
        "\n",
        "3. Exponential Distribution:\n",
        "The probability density function (PDF) of the Exponential distribution is given by the formula:\n",
        "\n",
        "PDF(X; β) = (1 / β) * e^(-X / β)\n",
        "\n",
        "4. Mean Squared Error (MSE):\n",
        "It is calculated using the formula:\n",
        "\n",
        "MSE = Σ ( (actual_value - predicted_value)^2 ) / n\n",
        "\n",
        "\n"
      ],
      "metadata": {
        "id": "LwyGgULqNJGL"
      }
    },
    {
      "cell_type": "code",
      "execution_count": null,
      "metadata": {
        "id": "wwamYtest5ox",
        "colab": {
          "base_uri": "https://localhost:8080/"
        },
        "outputId": "97ef26bd-b93c-4029-b7a6-8fae7a8c19af"
      },
      "outputs": [
        {
          "output_type": "stream",
          "name": "stdout",
          "text": [
            "MSE for Poisson: 4.564\n",
            "MSE for Gaussian: 2.0651939853873067\n",
            "MSE for Exponential: 7.612123888002208\n"
          ]
        }
      ],
      "source": [
        "import numpy as np\n",
        "from scipy.stats import poisson, norm, expon\n",
        "from sklearn.metrics import mean_squared_error\n",
        "\n",
        "# Parameters for the distributions\n",
        "lambda_param = 2.5  # Mean for Poisson\n",
        "mu_param = 5.0      # Mean for Gaussian (Normal)\n",
        "scale_param = 2.0   # Scale for Exponential\n",
        "\n",
        "# Generate synthetic data from each distribution\n",
        "np.random.seed(42)\n",
        "data_poisson = poisson.rvs(mu=lambda_param, size=1000)\n",
        "data_gaussian = norm.rvs(loc=mu_param, scale=1.0, size=1000)\n",
        "data_exponential = expon.rvs(scale=scale_param, size=1000)\n",
        "\n",
        "# Fit models and get predictions (use the parameters used for data generation)\n",
        "predicted_poisson = np.random.poisson(lam=lambda_param, size=1000)\n",
        "predicted_gaussian = norm.rvs(loc=mu_param, scale=1.0, size=1000)\n",
        "predicted_exponential = expon.rvs(scale=scale_param, size=1000)\n",
        "\n",
        "# Calculate Mean Squared Error (MSE) for each model\n",
        "mse_poisson = mean_squared_error(data_poisson, predicted_poisson)\n",
        "mse_gaussian = mean_squared_error(data_gaussian, predicted_gaussian)\n",
        "mse_exponential = mean_squared_error(data_exponential, predicted_exponential)\n",
        "\n",
        "print(\"MSE for Poisson:\",mse_poisson)\n",
        "print(\"MSE for Gaussian:\",mse_gaussian)\n",
        "print(\"MSE for Exponential:\",mse_exponential)\n"
      ]
    },
    {
      "cell_type": "markdown",
      "source": [
        " This approach is not representative of real-world scenarios, as the models use the true parameters for data generation, leading to artificially low MSE values. In practice, we use actual data to fit models and evaluate their performance on unseen data.\n",
        "\n",
        "To determine the best distribution for your data:\n",
        "\n",
        "1. Analyze the characteristics of your data and visualize it.\n",
        "2. Fit multiple candidate distributions to your data and compare how well each fits using goodness-of-fit tests and visual inspections.\n",
        "3. Choose the distribution that provides the best fit to your data based on these evaluations.\n",
        "\n",
        "Ultimately, the choice of distribution depends on the nature of your data and the specific goals of your analysis."
      ],
      "metadata": {
        "id": "MA-Fk8ajNyDB"
      }
    }
  ]
}